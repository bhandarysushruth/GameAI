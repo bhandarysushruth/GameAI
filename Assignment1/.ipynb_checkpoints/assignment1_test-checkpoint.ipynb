{
 "cells": [
  {
   "cell_type": "code",
   "execution_count": 1,
   "metadata": {},
   "outputs": [
    {
     "name": "stdout",
     "output_type": "stream",
     "text": [
      "pygame 1.9.4\n",
      "Hello from the pygame community. https://www.pygame.org/contribute.html\n"
     ]
    }
   ],
   "source": [
    "import pygame"
   ]
  },
  {
   "cell_type": "code",
   "execution_count": 2,
   "metadata": {},
   "outputs": [
    {
     "data": {
      "text/plain": [
       "(6, 0)"
      ]
     },
     "execution_count": 2,
     "metadata": {},
     "output_type": "execute_result"
    }
   ],
   "source": [
    "pygame.init()"
   ]
  },
  {
   "cell_type": "code",
   "execution_count": 3,
   "metadata": {},
   "outputs": [],
   "source": [
    "display_width = 800\n",
    "display_height = 600\n",
    "\n",
    "gameDisplay = pygame.display.set_mode((display_width,display_height))\n",
    "pygame.display.set_caption('A bit Racey')"
   ]
  },
  {
   "cell_type": "code",
   "execution_count": 4,
   "metadata": {},
   "outputs": [],
   "source": [
    "carImg = pygame.image.load('racecar.jpg')\n",
    "clock = pygame.time.Clock()\n",
    "black = (0,0,0)\n",
    "white = (255,255,255)\n",
    "x =  (display_width * 0.45)\n",
    "y = (display_height * 0.6)"
   ]
  },
  {
   "cell_type": "code",
   "execution_count": 5,
   "metadata": {},
   "outputs": [],
   "source": [
    "def car(x,y):\n",
    "    gameDisplay.blit(carImg, (x,y))"
   ]
  },
  {
   "cell_type": "code",
   "execution_count": 6,
   "metadata": {},
   "outputs": [],
   "source": [
    "crashed = False\n",
    "x_change = 0\n",
    "y_change = 0\n",
    "while not crashed:\n",
    "\n",
    "    for event in pygame.event.get():\n",
    "        if event.type == pygame.QUIT:\n",
    "            crashed = True\n",
    "        if event.type == pygame.KEYDOWN:\n",
    "            if event.key == pygame.K_LEFT:\n",
    "                x_change = -5\n",
    "            elif event.key == pygame.K_RIGHT:\n",
    "                x_change = 5\n",
    "            elif event.key == pygame.K_UP:\n",
    "                y_change = 4\n",
    "            elif event.key == pygame.K_DOWN:\n",
    "                y_change = -4\n",
    "        if event.type == pygame.KEYUP:\n",
    "            #if event.key == pygame.K_LEFT or event.key == pygame.K_RIGHT :\n",
    "            x_change = 0\n",
    "            y_change = 0\n",
    "        \n",
    "        #print(event)\n",
    "    x += x_change\n",
    "    y += y_change\n",
    "    \n",
    "    gameDisplay.fill(white)\n",
    "    car(x,y)\n",
    "\n",
    "    pygame.display.update()\n",
    "    clock.tick(60)\n"
   ]
  },
  {
   "cell_type": "code",
   "execution_count": 7,
   "metadata": {},
   "outputs": [],
   "source": [
    "pygame.quit()\n",
    "quit()"
   ]
  },
  {
   "cell_type": "code",
   "execution_count": null,
   "metadata": {},
   "outputs": [],
   "source": []
  }
 ],
 "metadata": {
  "kernelspec": {
   "display_name": "Python 3",
   "language": "python",
   "name": "python3"
  },
  "language_info": {
   "codemirror_mode": {
    "name": "ipython",
    "version": 3
   },
   "file_extension": ".py",
   "mimetype": "text/x-python",
   "name": "python",
   "nbconvert_exporter": "python",
   "pygments_lexer": "ipython3",
   "version": "3.6.5"
  }
 },
 "nbformat": 4,
 "nbformat_minor": 2
}
