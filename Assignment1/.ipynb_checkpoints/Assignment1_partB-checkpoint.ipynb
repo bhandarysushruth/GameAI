{
 "cells": [
  {
   "cell_type": "code",
   "execution_count": 1,
   "metadata": {},
   "outputs": [
    {
     "name": "stdout",
     "output_type": "stream",
     "text": [
      "pygame 1.9.4\n",
      "Hello from the pygame community. https://www.pygame.org/contribute.html\n"
     ]
    }
   ],
   "source": [
    "import pygame\n",
    "import math"
   ]
  },
  {
   "cell_type": "code",
   "execution_count": 2,
   "metadata": {},
   "outputs": [
    {
     "data": {
      "text/plain": [
       "(6, 0)"
      ]
     },
     "execution_count": 2,
     "metadata": {},
     "output_type": "execute_result"
    }
   ],
   "source": [
    "pygame.init()"
   ]
  },
  {
   "cell_type": "code",
   "execution_count": 3,
   "metadata": {},
   "outputs": [],
   "source": [
    "display_width = 800\n",
    "display_height = 600\n",
    "\n",
    "gameDisplay = pygame.display.set_mode((display_width,display_height))\n",
    "pygame.display.set_caption('Collision Detector')\n",
    "clock = pygame.time.Clock()\n",
    "black = (0,0,0)\n",
    "white = (255,255,255)\n",
    "red = (255,25,25)"
   ]
  },
  {
   "cell_type": "code",
   "execution_count": 4,
   "metadata": {},
   "outputs": [],
   "source": [
    "## used to calculate the euclidean distance between the centres of the two rectangles\n",
    "## also returns the cordinates of the midpoints of the two circles for use in other functions\n",
    "\n",
    "def calcDistance(rect1, rect2):\n",
    "    cx_1 = rect1.x + rect1.width/2\n",
    "    cy_1 = rect1.y + rect1.height/2\n",
    "    cx_2 = rect2.x + rect2.width/2\n",
    "    cy_2 = rect2.y + rect2.height/2\n",
    "    \n",
    "    dist = (cx_2 - cx_1)**2\n",
    "    dist += (cy_2 - cy_1)**2\n",
    "    dist = math.sqrt(dist)\n",
    "    return dist,cx_1,cy_1,cx_2,cy_2"
   ]
  },
  {
   "cell_type": "code",
   "execution_count": 5,
   "metadata": {},
   "outputs": [],
   "source": [
    "## used to print messages on the screen\n",
    "\n",
    "def printMsg(text_string,x,y):\n",
    "    font = pygame.font.SysFont(\"comicsansms\", 22)\n",
    "    text = font.render(text_string, True, (0, 128, 0))\n",
    "    gameDisplay.blit(text,(x, y))"
   ]
  },
  {
   "cell_type": "code",
   "execution_count": 6,
   "metadata": {},
   "outputs": [],
   "source": [
    "## Class Rect creates a Rectangle and the 'render' function is used to display the rectangle on the screen\n",
    "\n",
    "class Rect:\n",
    " \n",
    "    def __init__(self,x,y,width,height):\n",
    "        self.x=x\n",
    "        self.y=y\n",
    "        self.height = height\n",
    "        self.width = width\n",
    "    def render(self,collision):\n",
    "        if (collision==True):\n",
    "            pygame.draw.rect(gameDisplay,black,(self.x,self.y,self.width,self.height))\n",
    "            printMsg(\"collision detected\",380,20)\n",
    "            \n",
    "        else:\n",
    "            pygame.draw.rect(gameDisplay,black,(self.x,self.y,self.width,self.height))"
   ]
  },
  {
   "cell_type": "code",
   "execution_count": 7,
   "metadata": {},
   "outputs": [],
   "source": [
    "rectangle1 = Rect(100,100,90,100)\n",
    "rectangle2 = Rect(300,300,70,70)"
   ]
  },
  {
   "cell_type": "code",
   "execution_count": 8,
   "metadata": {},
   "outputs": [],
   "source": [
    "#function to detect the collision between two rectangles\n",
    "\n",
    "def detectCollisions(rect1, rect2):\n",
    " \n",
    "    if (rect2.x+rect2.width>=rect1.x>=rect2.x and rect2.y+rect2.height>=rect1.y>=rect2.y):\n",
    "        return True\n",
    "    elif (rect2.x+rect2.width>=rect2.x+rect1.width>=rect2.x and rect2.y+ rect2.height>=rect1.y>=rect2.y):\n",
    "        return True\n",
    "    elif (rect2.x+rect2.width>=rect1.x>=rect2.x and rect2.y+rect2.height>=rect1.y+rect1.height>=rect2.y):\n",
    "        return True\n",
    "    elif (rect2.x+rect2.width>=rect1.x+rect1.width>=rect2.x and rect2.y+rect2.height>=rect1.y+rect1.height>=rect2.y):\n",
    "        return True\n",
    "    else:\n",
    "        return False"
   ]
  },
  {
   "cell_type": "code",
   "execution_count": 9,
   "metadata": {},
   "outputs": [],
   "source": [
    "exit = False\n",
    "x_change = 0\n",
    "y_change = 0\n",
    "while not exit:\n",
    "    \n",
    "    for event in pygame.event.get():\n",
    "        \n",
    "        if event.type == pygame.QUIT:\n",
    "            exit = True\n",
    "        \n",
    "        if event.type == pygame.KEYDOWN:\n",
    "            if event.key == pygame.K_LEFT:\n",
    "                x_change = -5\n",
    "            elif event.key == pygame.K_RIGHT:\n",
    "                x_change = 5\n",
    "            elif event.key == pygame.K_UP:\n",
    "                y_change = -5\n",
    "            elif event.key == pygame.K_DOWN:\n",
    "                y_change = 5\n",
    "            elif event.key == pygame.K_q:\n",
    "                exit = True\n",
    "        if event.type == pygame.KEYUP:\n",
    "            \n",
    "            x_change = 0\n",
    "            y_change = 0\n",
    "        \n",
    "\n",
    "    rectangle1.x += x_change\n",
    "    rectangle1.y += y_change\n",
    "    collide=detectCollisions(rectangle1 , rectangle2)\n",
    "    \n",
    "    gameDisplay.fill(white)\n",
    "    rectangle1.render(collide)\n",
    "    rectangle2.render(False)\n",
    "\n",
    "    dist,cx1,cy1,cx2,cy2 = calcDistance(rectangle1, rectangle2)\n",
    "    text1= \"the distance between the centres is :\"\n",
    "    text_dst = text1 + str(dist)\n",
    "    printMsg(text_dst,450,500)\n",
    "    \n",
    "    ## line joining the two centres\n",
    "    pygame.draw.line(gameDisplay,red,(cx1,cy1),(cx2,cy2))\n",
    "    \n",
    "    pygame.display.update()\n",
    "    \n",
    "    clock.tick(60)\n"
   ]
  },
  {
   "cell_type": "code",
   "execution_count": 10,
   "metadata": {},
   "outputs": [],
   "source": [
    "pygame.quit()\n",
    "quit()"
   ]
  },
  {
   "cell_type": "code",
   "execution_count": null,
   "metadata": {},
   "outputs": [],
   "source": []
  },
  {
   "cell_type": "code",
   "execution_count": null,
   "metadata": {},
   "outputs": [],
   "source": []
  },
  {
   "cell_type": "code",
   "execution_count": null,
   "metadata": {},
   "outputs": [],
   "source": []
  },
  {
   "cell_type": "code",
   "execution_count": null,
   "metadata": {},
   "outputs": [],
   "source": []
  },
  {
   "cell_type": "code",
   "execution_count": null,
   "metadata": {},
   "outputs": [],
   "source": []
  }
 ],
 "metadata": {
  "kernelspec": {
   "display_name": "Python 3",
   "language": "python",
   "name": "python3"
  },
  "language_info": {
   "codemirror_mode": {
    "name": "ipython",
    "version": 3
   },
   "file_extension": ".py",
   "mimetype": "text/x-python",
   "name": "python",
   "nbconvert_exporter": "python",
   "pygments_lexer": "ipython3",
   "version": "3.6.5"
  }
 },
 "nbformat": 4,
 "nbformat_minor": 2
}
